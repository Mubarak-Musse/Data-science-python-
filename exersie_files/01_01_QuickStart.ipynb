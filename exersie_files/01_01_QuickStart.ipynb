{
 "cells": [
  {
   "cell_type": "markdown",
   "id": "0fed8fc2-f2c5-4d6e-bece-1cbd3e82d291",
   "metadata": {},
   "source": []
  },
  {
   "cell_type": "code",
   "execution_count": 1,
   "id": "41b8798a-ed35-43ec-9d99-28dd9ef3efff",
   "metadata": {},
   "outputs": [
    {
     "data": {
      "text/plain": [
       "2"
      ]
     },
     "execution_count": 1,
     "metadata": {},
     "output_type": "execute_result"
    }
   ],
   "source": [
    "1+1"
   ]
  },
  {
   "cell_type": "code",
   "execution_count": 3,
   "id": "e547f465-2a79-453b-90b1-ba509bf92ef2",
   "metadata": {},
   "outputs": [
    {
     "name": "stdout",
     "output_type": "stream",
     "text": [
      "sami\n"
     ]
    }
   ],
   "source": [
    "print ('sami')"
   ]
  },
  {
   "cell_type": "markdown",
   "id": "eccac464-7ec5-4a29-9fde-e1adfaef13d1",
   "metadata": {},
   "source": [
    "z = 4"
   ]
  },
  {
   "cell_type": "raw",
   "id": "5d71b88f-628e-4f4a-aa99-72106bf4460b",
   "metadata": {},
   "source": []
  },
  {
   "cell_type": "code",
   "execution_count": null,
   "id": "250f53af-335a-460c-a8bf-aa3ed533ba45",
   "metadata": {},
   "outputs": [],
   "source": []
  }
 ],
 "metadata": {
  "kernelspec": {
   "display_name": "Python 3 (ipykernel)",
   "language": "python",
   "name": "python3"
  },
  "language_info": {
   "codemirror_mode": {
    "name": "ipython",
    "version": 3
   },
   "file_extension": ".py",
   "mimetype": "text/x-python",
   "name": "python",
   "nbconvert_exporter": "python",
   "pygments_lexer": "ipython3",
   "version": "3.10.12"
  }
 },
 "nbformat": 4,
 "nbformat_minor": 5
}
